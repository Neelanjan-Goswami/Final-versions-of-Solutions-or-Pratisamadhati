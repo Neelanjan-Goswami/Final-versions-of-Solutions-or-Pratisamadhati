{
  "nbformat": 4,
  "nbformat_minor": 0,
  "metadata": {
    "colab": {
      "provenance": [],
      "authorship_tag": "ABX9TyOdzgnBOnTbQYDf+NXW3ltz",
      "include_colab_link": true
    },
    "kernelspec": {
      "name": "python3",
      "display_name": "Python 3"
    },
    "language_info": {
      "name": "python"
    }
  },
  "cells": [
    {
      "cell_type": "markdown",
      "metadata": {
        "id": "view-in-github",
        "colab_type": "text"
      },
      "source": [
        "<a href=\"https://colab.research.google.com/github/Neelanjan-Goswami/Final-versions-of-Solutions-or-Pratisamadhati/blob/master/wordle.ipynb\" target=\"_parent\"><img src=\"https://colab.research.google.com/assets/colab-badge.svg\" alt=\"Open In Colab\"/></a>"
      ]
    },
    {
      "cell_type": "code",
      "source": [
        "import random"
      ],
      "metadata": {
        "id": "-rf8B1oAp3l0"
      },
      "execution_count": 30,
      "outputs": []
    },
    {
      "cell_type": "code",
      "execution_count": 31,
      "metadata": {
        "colab": {
          "base_uri": "https://localhost:8080/"
        },
        "id": "f6BvXtbhpkPq",
        "outputId": "c35892fc-bdc0-481a-b477-d8bcbee9db5f"
      },
      "outputs": [
        {
          "output_type": "stream",
          "name": "stdout",
          "text": [
            "This is a mock Wordle\n"
          ]
        }
      ],
      "source": [
        "print(\"This is a mock Wordle\")"
      ]
    },
    {
      "cell_type": "code",
      "source": [
        "wordleList = ['rainbow', 'computer', 'science', 'programming','python', 'mathematics', 'player', 'condition','reverse', 'water', 'board', 'geeks']\n",
        "randWord = random.choice(wordleList)\n",
        "print(\"Guess {} letter word from {}\".format(len(randWord),wordleList))"
      ],
      "metadata": {
        "colab": {
          "base_uri": "https://localhost:8080/"
        },
        "id": "-Hu3LUP1p2RM",
        "outputId": "a782466a-d5e9-4ea9-83fe-996e82dad703"
      },
      "execution_count": 32,
      "outputs": [
        {
          "output_type": "stream",
          "name": "stdout",
          "text": [
            "Guess 6 letter word from ['rainbow', 'computer', 'science', 'programming', 'python', 'mathematics', 'player', 'condition', 'reverse', 'water', 'board', 'geeks']\n"
          ]
        }
      ]
    },
    {
      "cell_type": "code",
      "source": [
        "popCount = 0\n",
        "print(\"You get {} guesses\".format(len(randWord)))\n",
        "answerList = ['X']*len(randWord)\n",
        "for i in range (len(randWord)+1):\n",
        "  if i==len(randWord):\n",
        "    print(\"You failed to guess in {} tries\".format(randWord))\n",
        "    break\n",
        "  else:\n",
        "    guess = input(\"Guess number {}:\".format(i+1))\n",
        "    randWordList = list(randWord)\n",
        "    if len(guess) != len (randWord):\n",
        "      print(\"Incorrect length of guessed word!!!\")\n",
        "    elif guess == randWord:\n",
        "      print(\"You guessed it right!!!, It is {}\".format(guess))\n",
        "      break\n",
        "    else:\n",
        "      guessList = list(guess)\n",
        "      for k in range (len(guess)):\n",
        "        if guessList[k] in randWordList:\n",
        "          if guessList[k] == randWordList[k-popCount]:\n",
        "            answerList[k] = guessList[k]\n",
        "            randWordList.pop(k-popCount)\n",
        "            popCount += 1\n",
        "            if len(randWordList)==0:\n",
        "              break\n",
        "          else:\n",
        "            answerList[k] = '0'\n",
        "        else:\n",
        "          answerList[k] = 'X'\n",
        "    print('Output {}'.format(\"\".join(answerList)))"
      ],
      "metadata": {
        "colab": {
          "base_uri": "https://localhost:8080/"
        },
        "id": "J5_aznc9xGcU",
        "outputId": "c4d1ef80-be32-4bc2-870d-462822456131"
      },
      "execution_count": 34,
      "outputs": [
        {
          "output_type": "stream",
          "name": "stdout",
          "text": [
            "You get 6 guesses\n",
            "Guess number 1:player\n",
            "Output pXX0XX\n",
            "Guess number 2:python\n",
            "You guessed it right!!!, It is python\n"
          ]
        }
      ]
    }
  ]
}