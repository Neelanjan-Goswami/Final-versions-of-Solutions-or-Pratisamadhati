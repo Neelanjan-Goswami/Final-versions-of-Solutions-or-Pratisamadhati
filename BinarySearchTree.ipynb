{
  "nbformat": 4,
  "nbformat_minor": 0,
  "metadata": {
    "colab": {
      "provenance": [],
      "include_colab_link": true
    },
    "kernelspec": {
      "name": "python3",
      "display_name": "Python 3"
    },
    "language_info": {
      "name": "python"
    }
  },
  "cells": [
    {
      "cell_type": "markdown",
      "metadata": {
        "id": "view-in-github",
        "colab_type": "text"
      },
      "source": [
        "<a href=\"https://colab.research.google.com/github/Neelanjan-Goswami/Final-versions-of-Solutions-or-Pratisamadhati/blob/master/BinarySearchTree.ipynb\" target=\"_parent\"><img src=\"https://colab.research.google.com/assets/colab-badge.svg\" alt=\"Open In Colab\"/></a>"
      ]
    },
    {
      "cell_type": "code",
      "execution_count": 28,
      "metadata": {
        "id": "XIJh4VJHGP5o"
      },
      "outputs": [],
      "source": [
        "def binary_search(sorted_list, key):\n",
        "  min_index = 0\n",
        "  max_index = len(sorted_list) - 1\n",
        "\n",
        "  while min_index <= max_index:\n",
        "    mid = (min_index + max_index)//2\n",
        "\n",
        "    if sorted_list[mid] == key:\n",
        "      return mid\n",
        "    elif sorted_list[mid] < key:\n",
        "      min_index = mid + 1\n",
        "    else:\n",
        "      max_index = mid - 1\n",
        "\n",
        "    return -1"
      ]
    },
    {
      "cell_type": "code",
      "source": [
        "class Node:\n",
        "  def __init__(self, value, right=None, left=None):\n",
        "    self.value = value\n",
        "    self.left = left\n",
        "    self.right = right\n",
        "\n",
        "  def __str__(self):\n",
        "    return str(self.value)"
      ],
      "metadata": {
        "id": "08Wv_UEgQqJ7"
      },
      "execution_count": 29,
      "outputs": []
    },
    {
      "cell_type": "code",
      "source": [
        "A = Node(10)\n",
        "B = Node(5)\n",
        "C = Node(12)\n",
        "D = Node(2)\n",
        "E = Node(7)\n",
        "F = Node(11)\n",
        "\n",
        "A.left = B\n",
        "A.right = C\n",
        "B.left = D\n",
        "B.right = E\n",
        "C.left = F\n",
        "\n",
        "print(A)\n",
        "print(B,C)\n",
        "print(D,E,F)"
      ],
      "metadata": {
        "colab": {
          "base_uri": "https://localhost:8080/"
        },
        "id": "Hn6gAdG1bNfL",
        "outputId": "7f7a9b4e-d399-4c46-bd65-81cdcc51c94b"
      },
      "execution_count": 30,
      "outputs": [
        {
          "output_type": "stream",
          "name": "stdout",
          "text": [
            "10\n",
            "5 12\n",
            "2 7 11\n"
          ]
        }
      ]
    },
    {
      "cell_type": "code",
      "source": [
        "# Pre-order traversal\n",
        "def preOrder(self):\n",
        "  print(self.value)\n",
        "  if self.left: preOrder(self.left)\n",
        "  if self.right: preOrder(self.right)\n",
        "preOrder(A)"
      ],
      "metadata": {
        "colab": {
          "base_uri": "https://localhost:8080/"
        },
        "id": "G1Q56zv5S8RL",
        "outputId": "647d4bec-054d-46d9-a7bb-ef716a1f95f5"
      },
      "execution_count": 31,
      "outputs": [
        {
          "output_type": "stream",
          "name": "stdout",
          "text": [
            "10\n",
            "5\n",
            "2\n",
            "7\n",
            "12\n",
            "11\n"
          ]
        }
      ]
    },
    {
      "cell_type": "code",
      "source": [
        "# In-order traversal\n",
        "def inOrder(self):\n",
        "  if self.left: inOrder(self.left)\n",
        "  print(self.value)\n",
        "  if self.right: inOrder(self.right)\n",
        "inOrder(A)"
      ],
      "metadata": {
        "colab": {
          "base_uri": "https://localhost:8080/"
        },
        "id": "zOKN4N7RTbBk",
        "outputId": "18784e8e-689e-4d52-9c31-0bda199e4de9"
      },
      "execution_count": 32,
      "outputs": [
        {
          "output_type": "stream",
          "name": "stdout",
          "text": [
            "2\n",
            "5\n",
            "7\n",
            "10\n",
            "11\n",
            "12\n"
          ]
        }
      ]
    },
    {
      "cell_type": "code",
      "source": [
        "# Post-order traversal\n",
        "def postOrder(self):\n",
        "  if self.left: postOrder(self.left)\n",
        "  if self.right: postOrder(self.right)\n",
        "  print(self.value)\n",
        "postOrder(A)"
      ],
      "metadata": {
        "colab": {
          "base_uri": "https://localhost:8080/"
        },
        "id": "4ZSPvWc_eVha",
        "outputId": "ff6654c4-65f5-4cfe-d005-218dd0081eb8"
      },
      "execution_count": 33,
      "outputs": [
        {
          "output_type": "stream",
          "name": "stdout",
          "text": [
            "2\n",
            "7\n",
            "5\n",
            "11\n",
            "12\n",
            "10\n"
          ]
        }
      ]
    },
    {
      "cell_type": "code",
      "source": [
        "def insert(self, value):\n",
        "  if value <= self.value:\n",
        "    if self.left is None:\n",
        "        self.left = Node(value)\n",
        "    else:\n",
        "        insert(self.left, value)\n",
        "  elif value > self.value:\n",
        "    if self.right is None:\n",
        "        self.right = Node(value)\n",
        "    else:\n",
        "        insert(self.right, value)\n",
        "insert(A,13)\n",
        "inOrder(A)"
      ],
      "metadata": {
        "colab": {
          "base_uri": "https://localhost:8080/"
        },
        "id": "moxssSCthZQ7",
        "outputId": "0c178678-2c85-4440-cbf8-3bff008911c2"
      },
      "execution_count": 34,
      "outputs": [
        {
          "output_type": "stream",
          "name": "stdout",
          "text": [
            "2\n",
            "5\n",
            "7\n",
            "10\n",
            "11\n",
            "12\n",
            "13\n"
          ]
        }
      ]
    },
    {
      "cell_type": "code",
      "source": [],
      "metadata": {
        "id": "QcNEJDOR3wX6"
      },
      "execution_count": 34,
      "outputs": []
    }
  ]
}