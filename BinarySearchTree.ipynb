{
  "nbformat": 4,
  "nbformat_minor": 0,
  "metadata": {
    "colab": {
      "provenance": [],
      "authorship_tag": "ABX9TyMP6rgWrYmHh18tsy4qgYI+",
      "include_colab_link": true
    },
    "kernelspec": {
      "name": "python3",
      "display_name": "Python 3"
    },
    "language_info": {
      "name": "python"
    }
  },
  "cells": [
    {
      "cell_type": "markdown",
      "metadata": {
        "id": "view-in-github",
        "colab_type": "text"
      },
      "source": [
        "<a href=\"https://colab.research.google.com/github/Neelanjan-Goswami/Final-versions-of-Solutions-or-Pratisamadhati/blob/master/BinarySearchTree.ipynb\" target=\"_parent\"><img src=\"https://colab.research.google.com/assets/colab-badge.svg\" alt=\"Open In Colab\"/></a>"
      ]
    },
    {
      "cell_type": "code",
      "execution_count": null,
      "metadata": {
        "id": "XIJh4VJHGP5o"
      },
      "outputs": [],
      "source": [
        "def binary_search(sorted_list, key):\n",
        "  min_index = 0\n",
        "  max_index = len(sorted_list) - 1\n",
        "\n",
        "  while min_index <= max_index:\n",
        "    mid = (min_index + max_index)//2\n",
        "\n",
        "    if sorted_list[mid] == key:\n",
        "      return mid\n",
        "    elif sorted_list[mid] < key:\n",
        "      min_index = mid + 1\n",
        "    else:\n",
        "      max_index = mid - 1\n",
        "\n",
        "    return -1"
      ]
    }
  ]
}