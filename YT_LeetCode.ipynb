{
  "nbformat": 4,
  "nbformat_minor": 0,
  "metadata": {
    "colab": {
      "provenance": [],
      "authorship_tag": "ABX9TyPu9vasfGXLc+Sqj+uhmzgB",
      "include_colab_link": true
    },
    "kernelspec": {
      "name": "python3",
      "display_name": "Python 3"
    },
    "language_info": {
      "name": "python"
    }
  },
  "cells": [
    {
      "cell_type": "markdown",
      "metadata": {
        "id": "view-in-github",
        "colab_type": "text"
      },
      "source": [
        "<a href=\"https://colab.research.google.com/github/Neelanjan-Goswami/Final-versions-of-Solutions-or-Pratisamadhati/blob/master/YT_LeetCode.ipynb\" target=\"_parent\"><img src=\"https://colab.research.google.com/assets/colab-badge.svg\" alt=\"Open In Colab\"/></a>"
      ]
    },
    {
      "cell_type": "markdown",
      "source": [
        "https://www.youtube.com/watch?v=lvO88XxNAzs&ab_channel=stoneycodes"
      ],
      "metadata": {
        "id": "1Ng5ySGHP2J3"
      }
    },
    {
      "cell_type": "markdown",
      "source": [
        "https://leetcode.com/problems/contains-duplicate/description/"
      ],
      "metadata": {
        "id": "H8hpaGB7MMsx"
      }
    },
    {
      "cell_type": "code",
      "source": [
        "class Solution:\n",
        "    def containsDuplicate(self, nums: List[int]) -> bool:\n",
        "      s = set()\n",
        "        for num in nums:\n",
        "            if num in s:\n",
        "                return True\n",
        "            else:\n",
        "                s.add(num)\n",
        "        return False\n",
        "        #OR\n",
        "        d = defaultdict(int)\n",
        "        for num in nums:\n",
        "            if num not in d:\n",
        "                d[num]=1\n",
        "            else:\n",
        "                return True\n",
        "        return False"
      ],
      "metadata": {
        "id": "F6K5BazCMK-b"
      },
      "execution_count": null,
      "outputs": []
    },
    {
      "cell_type": "markdown",
      "source": [
        "https://leetcode.com/problems/missing-number/"
      ],
      "metadata": {
        "id": "YZhCLeQ3BskQ"
      }
    },
    {
      "cell_type": "code",
      "source": [
        "class Solution:\n",
        "    def missingNumber(self, nums: List[int]) -> int:\n",
        "        return sum(range(len(nums)+1)) - sum(nums)\n",
        "        #OR\n",
        "        n = len(nums)\n",
        "        for i in range (0,n+1):\n",
        "            if i not in nums:\n",
        "                return i"
      ],
      "metadata": {
        "id": "2GrBc-gzBtHK"
      },
      "execution_count": null,
      "outputs": []
    },
    {
      "cell_type": "markdown",
      "source": [
        "https://leetcode.com/problems/find-all-numbers-disappeared-in-an-array/"
      ],
      "metadata": {
        "id": "11lzeymYNunQ"
      }
    },
    {
      "cell_type": "code",
      "source": [
        "class Solution:\n",
        "    def findDisappearedNumbers(self, nums: List[int]) -> List[int]:\n",
        "        ans = []\n",
        "        n=len(nums)\n",
        "        nums = set(nums)\n",
        "        for i in range (1,n+1):\n",
        "            if i not in nums:\n",
        "                ans.append(i)\n",
        "        return ans"
      ],
      "metadata": {
        "id": "zsZcSttQNvV-"
      },
      "execution_count": null,
      "outputs": []
    },
    {
      "cell_type": "markdown",
      "source": [
        "https://leetcode.com/problems/two-sum/"
      ],
      "metadata": {
        "id": "lXtrgg0ait5P"
      }
    },
    {
      "cell_type": "code",
      "source": [
        "class Solution:\n",
        "    def twoSum(self, nums: List[int], target: int) -> List[int]:\n",
        "        d = {}\n",
        "        for i in range (len(nums)):\n",
        "            t = target - nums[i]\n",
        "            if t in d:\n",
        "                return [i,d[t]]\n",
        "            else:\n",
        "                d[nums[i]] = i"
      ],
      "metadata": {
        "id": "6x7pZCEeiwD5"
      },
      "execution_count": null,
      "outputs": []
    },
    {
      "cell_type": "markdown",
      "source": [
        "https://leetcode.com/problems/how-many-numbers-are-smaller-than-the-current-number/submissions/1641810006/"
      ],
      "metadata": {
        "id": "gojK1wGadYCV"
      }
    },
    {
      "cell_type": "code",
      "source": [
        "class Solution:\n",
        "    def smallerNumbersThanCurrent(self, nums: List[int]) -> List[int]:\n",
        "        n = enumerate(sorted(nums))\n",
        "        d = {}\n",
        "        for k,v in n:\n",
        "            if v not in d:\n",
        "                d[v]=k\n",
        "        ans = []\n",
        "        for i in nums:\n",
        "            ans.append(d[i])\n",
        "        return ans"
      ],
      "metadata": {
        "id": "rbogciSCdYoX"
      },
      "execution_count": null,
      "outputs": []
    },
    {
      "cell_type": "markdown",
      "source": [
        "https://leetcode.com/problems/minimum-time-visiting-all-points/"
      ],
      "metadata": {
        "id": "JuFopndolj1w"
      }
    },
    {
      "cell_type": "code",
      "source": [
        "class Solution:\n",
        "    def minTimeToVisitAllPoints(self, points: List[List[int]]) -> int:\n",
        "        x1 , y1 = points.pop()\n",
        "        ans = 0\n",
        "        while points:\n",
        "            x2 , y2 = points.pop()\n",
        "            ans += max(abs(x2-x1),abs(y2-y1))\n",
        "            x1 , y1 = x2 , y2\n",
        "        return ans"
      ],
      "metadata": {
        "id": "43QcwHZRln1R"
      },
      "execution_count": null,
      "outputs": []
    },
    {
      "cell_type": "markdown",
      "source": [
        "https://leetcode.com/problems/spiral-matrix/"
      ],
      "metadata": {
        "id": "LFY2MFDIJD-5"
      }
    },
    {
      "cell_type": "code",
      "source": [
        "class Solution:\n",
        "    def spiralOrder(self, matrix: List[List[int]]) -> List[int]:\n",
        "        row , col = len(matrix),len(matrix[0])\n",
        "        ans = []\n",
        "        while matrix:\n",
        "            try:\n",
        "                ans+=self.right(matrix)\n",
        "                ans+=self.down(matrix)\n",
        "                ans+=self.left(matrix)\n",
        "                ans+=self.up(matrix)\n",
        "            except:\n",
        "                pass\n",
        "        return ans\n",
        "\n",
        "    def left(self,matrix):\n",
        "        if len(matrix) == 0:\n",
        "            return\n",
        "        else:\n",
        "            return matrix.pop(-1)[::-1]\n",
        "\n",
        "    def down(self,matrix):\n",
        "        if len(matrix) == 0:\n",
        "            return\n",
        "        else:\n",
        "            last = []\n",
        "            for i in range (len(matrix)):\n",
        "                last.append(matrix[i].pop(-1))\n",
        "            return last\n",
        "\n",
        "    def right(self,matrix):\n",
        "        if len(matrix) == 0:\n",
        "            return\n",
        "        else:\n",
        "            return matrix.pop(0)\n",
        "\n",
        "    def up(self,matrix):\n",
        "        if len(matrix) == 0:\n",
        "            return\n",
        "        else:\n",
        "            first = []\n",
        "            for i in range (len(matrix)-1,-1,-1):\n",
        "                first.append(matrix[i].pop(0))\n",
        "            return first"
      ],
      "metadata": {
        "id": "U8MZGoAFJGBo"
      },
      "execution_count": null,
      "outputs": []
    },
    {
      "cell_type": "markdown",
      "source": [
        "https://leetcode.com/problems/number-of-islands/"
      ],
      "metadata": {
        "id": "a9ADLeraxCMX"
      }
    },
    {
      "cell_type": "code",
      "source": [
        "#BFS\n",
        "class Solution:\n",
        "    def numIslands(self, grid: List[List[str]]) -> int:\n",
        "        if not grid:\n",
        "            return 0\n",
        "\n",
        "        def bfs(r,c):\n",
        "            q = deque()\n",
        "            visited.add((r,c))\n",
        "            q.append((r,c))\n",
        "            while q:\n",
        "                row,col = q.popleft()\n",
        "                directions = [[0,1],[1,0],[0,-1],[-1,0]]\n",
        "                for dx,dy in directions:\n",
        "                    r,c = row+dx,col+dy\n",
        "                    if (r in range(rows) and c in range(cols) and grid[r][c]==\"1\" and (r,c) not in visited):\n",
        "                        q.append((r,c))\n",
        "                        visited.add((r,c))\n",
        "\n",
        "        num = 0\n",
        "        rows = len(grid)\n",
        "        cols = len(grid[0])\n",
        "        visited = set()\n",
        "\n",
        "        for r in range(rows):\n",
        "            for c in range(cols):\n",
        "                if grid[r][c] == \"1\" and (r,c) not in visited:\n",
        "                    bfs(r,c)\n",
        "                    num+=1\n",
        "        return num"
      ],
      "metadata": {
        "id": "ly8_kPulxCrm"
      },
      "execution_count": null,
      "outputs": []
    },
    {
      "cell_type": "code",
      "source": [
        "#DFS\n",
        "\n",
        "class Solution:\n",
        "    def numIslands(self, grid: List[List[str]]) -> int:\n",
        "        if not grid:\n",
        "            return 0\n",
        "\n",
        "        def dfs(r,c):\n",
        "            if r < 0 or r >= rows or c < 0 or c >= cols or grid[r][c]!='1':\n",
        "                return\n",
        "            grid[r][c] = '0'\n",
        "            dfs(r+1,c)\n",
        "            dfs(r-1,c)\n",
        "            dfs(r,c+1)\n",
        "            dfs(r,c-1)\n",
        "\n",
        "        num = 0\n",
        "        rows = len(grid)\n",
        "        cols = len(grid[0])\n",
        "\n",
        "        for r in range(rows):\n",
        "            for c in range(cols):\n",
        "                if grid[r][c] == \"1\":\n",
        "                    num+=1\n",
        "                    dfs(r,c)\n",
        "\n",
        "        return num"
      ],
      "metadata": {
        "id": "IB6k7p5wY3es"
      },
      "execution_count": null,
      "outputs": []
    },
    {
      "cell_type": "markdown",
      "source": [
        "https://leetcode.com/problems/best-time-to-buy-and-sell-stock/"
      ],
      "metadata": {
        "id": "bkVa4BIs_hWC"
      }
    },
    {
      "cell_type": "code",
      "source": [
        "class Solution:\n",
        "    def maxProfit(self, prices: List[int]) -> int:\n",
        "        if not prices or len(prices)==1:\n",
        "            return 0\n",
        "        l = 0\n",
        "        r = 1\n",
        "        ans = 0\n",
        "        while r != len(prices):\n",
        "            if prices[l]<prices[r]:\n",
        "                if prices[r]-prices[l]>ans:\n",
        "                    ans = prices[r]-prices[l]\n",
        "            else:\n",
        "                l=r\n",
        "            r+=1\n",
        "        return ans"
      ],
      "metadata": {
        "id": "MOXzFX-w_jI3"
      },
      "execution_count": null,
      "outputs": []
    },
    {
      "cell_type": "markdown",
      "source": [
        "https://leetcode.com/problems/squares-of-a-sorted-array/"
      ],
      "metadata": {
        "id": "XNpEMyeAI2T7"
      }
    },
    {
      "cell_type": "code",
      "source": [
        "class Solution:\n",
        "    def sortedSquares(self, nums: List[int]) -> List[int]:\n",
        "        ans = collections.deque()\n",
        "        l = 0\n",
        "        r = len(nums)-1\n",
        "        while l<=r:\n",
        "            l_val,r_val = abs(nums[l]),abs(nums[r])\n",
        "            if l_val<r_val:\n",
        "                ans.appendleft(r_val)\n",
        "                r-=1\n",
        "            else:\n",
        "                ans.appendleft(l_val)\n",
        "                l+=1\n",
        "        return [n**2 for n in ans]"
      ],
      "metadata": {
        "id": "AnZyu-GuRJTD"
      },
      "execution_count": null,
      "outputs": []
    },
    {
      "cell_type": "code",
      "source": [
        "#In-efficient way but different and mine\n",
        "class Solution:\n",
        "    def sortedSquares(self, nums: List[int]) -> List[int]:\n",
        "        ptr = 0\n",
        "        for i in range(len(nums)):\n",
        "            ptr = i\n",
        "            if nums[i] >= 0:\n",
        "                break\n",
        "        print(ptr)\n",
        "        neg = nums[0:ptr]\n",
        "        neg = neg[::-1]\n",
        "        for i in range(len(neg)):\n",
        "            neg[i] = neg[i]**2\n",
        "        pos = nums[ptr:len(nums)]\n",
        "        for i in range(len(pos)):\n",
        "            pos[i] = pos[i]**2\n",
        "        print(neg)\n",
        "        print(pos)\n",
        "        if len(neg)==0: return pos\n",
        "        ans = []\n",
        "        var=0\n",
        "        while len(neg)!=0 and len(pos)!=0:\n",
        "            if neg[0]<pos[0]:\n",
        "                ans.append(neg.pop(0))\n",
        "            else:\n",
        "                ans.append(pos.pop(0))\n",
        "        else:\n",
        "            if len(neg)==0:\n",
        "                ans+=pos\n",
        "            elif len(pos)==0:\n",
        "                ans+=neg\n",
        "        return ans\n"
      ],
      "metadata": {
        "id": "Js3XQ8m3I28H"
      },
      "execution_count": null,
      "outputs": []
    },
    {
      "cell_type": "markdown",
      "source": [
        "https://leetcode.com/problems/3sum/description/"
      ],
      "metadata": {
        "id": "PntCJR5SWpme"
      }
    },
    {
      "cell_type": "code",
      "source": [
        "class Solution:\n",
        "    def threeSum(self, nums: List[int]) -> List[List[int]]:\n",
        "        ans = []\n",
        "        nums.sort()\n",
        "\n",
        "        for ind,val in enumerate(nums):\n",
        "            if val>0:\n",
        "                break\n",
        "            if ind > 0 and val == nums[ind-1]:\n",
        "                continue\n",
        "            l = (ind+1)\n",
        "            r = (len(nums)-1)\n",
        "            while l<r:\n",
        "                currentTarget = nums[l] + nums[r] + val\n",
        "                if currentTarget > 0:\n",
        "                    r-=1\n",
        "                elif currentTarget < 0:\n",
        "                    l+=1\n",
        "                else:\n",
        "                    ans.append([val,nums[l],nums[r]])\n",
        "                    l+=1\n",
        "                    while l<r and nums[l] == nums[l-1]:\n",
        "                        l+=1\n",
        "\n",
        "        return ans"
      ],
      "metadata": {
        "id": "FgPQA48sWuGW"
      },
      "execution_count": null,
      "outputs": []
    },
    {
      "cell_type": "markdown",
      "source": [
        "https://leetcode.com/problems/longest-mountain-in-array/"
      ],
      "metadata": {
        "id": "2ofE1UGvevFC"
      }
    },
    {
      "cell_type": "code",
      "source": [
        "class Solution:\n",
        "    def longestMountain(self, arr: List[int]) -> int:\n",
        "        ans=0\n",
        "        if len(arr)<3:\n",
        "            return 0\n",
        "        for i in range(1,len(arr)-1):\n",
        "            l=r=i\n",
        "            if arr[i-1]<arr[i]>arr[i+1]:\n",
        "                while l>0 and arr[l]>arr[l-1]:\n",
        "                    l-=1\n",
        "                while r<len(arr)-1 and arr[r]>arr[r+1]:\n",
        "                    r+=1\n",
        "                ans = max(ans,len(arr[l:r+1]))\n",
        "        return ans\n"
      ],
      "metadata": {
        "id": "kkVzmtdPevy_"
      },
      "execution_count": null,
      "outputs": []
    },
    {
      "cell_type": "markdown",
      "source": [
        "https://leetcode.com/problems/contains-duplicate-ii/submissions/1661534669/"
      ],
      "metadata": {
        "id": "hAuEWjR2pR40"
      }
    },
    {
      "cell_type": "code",
      "source": [
        "class Solution:\n",
        "    def containsNearbyDuplicate(self, nums: List[int], k: int) -> bool:\n",
        "        s = set()\n",
        "        for ind,num in enumerate(nums):\n",
        "            if num in s:\n",
        "                return True\n",
        "            else:\n",
        "                s.add(num)\n",
        "            if len(s)>k:\n",
        "                s.remove(nums[ind-k])\n",
        "        return False"
      ],
      "metadata": {
        "id": "gMhZuXb4pTqw"
      },
      "execution_count": null,
      "outputs": []
    },
    {
      "cell_type": "markdown",
      "source": [
        "https://leetcode.com/problems/minimum-absolute-difference/"
      ],
      "metadata": {
        "id": "ANNXDk6ju39s"
      }
    },
    {
      "cell_type": "code",
      "source": [
        "class Solution:\n",
        "    def minimumAbsDifference(self, arr: List[int]) -> List[List[int]]:\n",
        "        arr.sort()\n",
        "        ans = list()\n",
        "        mi = arr[1]-arr[0]\n",
        "        for i in range(len(arr)-1):\n",
        "            if arr[i]<arr[i+1]:\n",
        "                sub = arr[i+1] - arr[i]\n",
        "                if sub==mi:\n",
        "                    ans.append([arr[i],arr[i+1]])\n",
        "                elif sub<mi:\n",
        "                    mi = sub\n",
        "                    ans = [[arr[i],arr[i+1]]]\n",
        "        return ans"
      ],
      "metadata": {
        "id": "AwRMb7xfu4sL"
      },
      "execution_count": null,
      "outputs": []
    },
    {
      "cell_type": "markdown",
      "source": [
        "https://leetcode.com/problems/single-number/"
      ],
      "metadata": {
        "id": "Slkb_Q_tWQ0V"
      }
    },
    {
      "cell_type": "code",
      "source": [
        "class Solution:\n",
        "    def singleNumber(self, nums: List[int]) -> int:\n",
        "        d = dict()\n",
        "        for num in nums:\n",
        "            if num not in d:\n",
        "                d[num] = 1\n",
        "            else:\n",
        "                d[num]+=1\n",
        "        ans = [k for k,v in d.items() if v == 1]\n",
        "        return ans.pop()"
      ],
      "metadata": {
        "id": "QD2n8jPMWRRr"
      },
      "execution_count": null,
      "outputs": []
    },
    {
      "cell_type": "code",
      "source": [
        "class Solution:\n",
        "    def singleNumber(self, nums: List[int]) -> int:\n",
        "\n",
        "        xor = 0\n",
        "        for num in nums:\n",
        "            xor ^= num\n",
        "        return xor"
      ],
      "metadata": {
        "id": "C2sf7cOZW9F4"
      },
      "execution_count": null,
      "outputs": []
    },
    {
      "cell_type": "markdown",
      "source": [
        "https://leetcode.com/problems/coin-change/description/"
      ],
      "metadata": {
        "id": "-Ate-5NMApaB"
      }
    },
    {
      "cell_type": "code",
      "source": [
        "class Solution:\n",
        "    def coinChange(self, coins: List[int], amount: int) -> int:\n",
        "        dp = [amount+1]*(amount+1)\n",
        "        dp[0] = 0\n",
        "\n",
        "        for val in range(amount+1):\n",
        "            for c in coins:\n",
        "                if (val-c)>=0:\n",
        "                    dp[val] = min(dp[val],dp[val-c]+1)\n",
        "\n",
        "        return dp[val] if dp[val]!=amount+1 else -1"
      ],
      "metadata": {
        "id": "N9nlmRiLAp4e"
      },
      "execution_count": null,
      "outputs": []
    },
    {
      "cell_type": "markdown",
      "source": [
        "https://leetcode.com/problems/climbing-stairs/description/"
      ],
      "metadata": {
        "id": "chJFQqxeJ-Dd"
      }
    },
    {
      "cell_type": "code",
      "source": [
        "class Solution:\n",
        "    def climbStairs(self, n: int) -> int:\n",
        "        dp = [0] * (n+1)\n",
        "        if n<=2:\n",
        "            return n\n",
        "        dp[0] = 0\n",
        "        dp[1] = 1\n",
        "        dp[2] = 2\n",
        "        for i in range(3,n+1):\n",
        "            dp[i] = dp[i-1] + dp[i-2]\n",
        "        return dp[n]"
      ],
      "metadata": {
        "id": "tsHxNfYoJ-g_"
      },
      "execution_count": null,
      "outputs": []
    },
    {
      "cell_type": "markdown",
      "source": [
        "https://leetcode.com/problems/maximum-subarray/"
      ],
      "metadata": {
        "id": "ZVwC8ZpDRRDs"
      }
    },
    {
      "cell_type": "code",
      "source": [
        "class Solution:\n",
        "    def maxSubArray(self, nums: List[int]) -> int:\n",
        "        #SLIDING WINDOW\n",
        "        curr = 0\n",
        "        ans = nums[0]\n",
        "        l = 0\n",
        "\n",
        "        for r in range(len(nums)):\n",
        "            if curr<0:\n",
        "                curr = 0\n",
        "                l = r\n",
        "            curr += nums[r]\n",
        "            if curr > ans:\n",
        "                ans = curr\n",
        "        return ans\n",
        "\n",
        "        #DP\n",
        "        dp = nums\n",
        "\n",
        "        for i in range(1,len(nums)):\n",
        "            dp[i] = max(dp[i],dp[i-1]+dp[i])\n",
        "\n",
        "        return max(dp)"
      ],
      "metadata": {
        "id": "EUplUQfkRS_w"
      },
      "execution_count": null,
      "outputs": []
    },
    {
      "cell_type": "markdown",
      "source": [
        "https://leetcode.com/problems/counting-bits/"
      ],
      "metadata": {
        "id": "c487FcmfaDRy"
      }
    },
    {
      "cell_type": "code",
      "source": [
        "class Solution:\n",
        "    def countBits(self, n: int) -> List[int]:\n",
        "        dp = [0] * (n+1)\n",
        "        offset = 1\n",
        "\n",
        "        for i in range(1,n+1):\n",
        "            if offset*2 == i:\n",
        "                offset = i\n",
        "\n",
        "            dp[i] = 1 + dp[i-offset]\n",
        "\n",
        "        return dp"
      ],
      "metadata": {
        "id": "DIFwQkQpaDwd"
      },
      "execution_count": null,
      "outputs": []
    },
    {
      "cell_type": "markdown",
      "source": [
        "https://leetcode.com/problems/range-sum-query-immutable/"
      ],
      "metadata": {
        "id": "GGRrb4YPfEPe"
      }
    },
    {
      "cell_type": "code",
      "source": [
        "class NumArray:\n",
        "\n",
        "    def __init__(self, nums: List[int]):\n",
        "        self.curr = nums\n",
        "        for i in range(1,len(nums)):\n",
        "            self.curr[i] += self.curr[i-1]\n",
        "        print(self.curr)\n",
        "\n",
        "\n",
        "    def sumRange(self, left: int, right: int) -> int:\n",
        "        if left == 0:\n",
        "            return self.curr[right]\n",
        "        return self.curr[right] - self.curr[left-1]\n",
        "\n",
        "\n",
        "# Your NumArray object will be instantiated and called as such:\n",
        "# obj = NumArray(nums)\n",
        "# param_1 = obj.sumRange(left,right)"
      ],
      "metadata": {
        "id": "OrbS_kfFfEpQ"
      },
      "execution_count": null,
      "outputs": []
    },
    {
      "cell_type": "markdown",
      "source": [
        "https://leetcode.com/problems/letter-case-permutation/"
      ],
      "metadata": {
        "id": "7DsMvk8JaZxn"
      }
    },
    {
      "cell_type": "code",
      "source": [
        "class Solution:\n",
        "    def letterCasePermutation(self, s: str) -> List[str]:\n",
        "        ans = [\"\"]\n",
        "        for c in s:\n",
        "            tmp = []\n",
        "            if c.isalpha():\n",
        "                for i in ans:\n",
        "                    tmp.append(i+c.lower())\n",
        "                    tmp.append(i+c.upper())\n",
        "            else:\n",
        "                for i in ans:\n",
        "                    tmp.append(i+c)\n",
        "            ans = tmp\n",
        "        return ans\n"
      ],
      "metadata": {
        "id": "JBMlUMo9aaa-"
      },
      "execution_count": null,
      "outputs": []
    },
    {
      "cell_type": "code",
      "source": [
        "class Solution:\n",
        "    def letterCasePermutation(self, s: str) -> List[str]:\n",
        "        res = []\n",
        "        def backtrack(sub=\"\",i=0):\n",
        "\n",
        "            if len(sub) == len(s):\n",
        "                res.append(sub)\n",
        "                return\n",
        "\n",
        "            if s[i].isalpha():\n",
        "                backtrack(sub+s[i].swapcase(),i+1)\n",
        "            backtrack(sub+s[i],i+1)\n",
        "\n",
        "        backtrack()\n",
        "        return res"
      ],
      "metadata": {
        "id": "tSQBG2pNc3Ru"
      },
      "execution_count": null,
      "outputs": []
    },
    {
      "cell_type": "markdown",
      "source": [
        "https://leetcode.com/problems/subsets/"
      ],
      "metadata": {
        "id": "jYZkeB-pplA4"
      }
    },
    {
      "cell_type": "code",
      "source": [
        "class Solution:\n",
        "    def subsets(self, nums: List[int]) -> List[List[int]]:\n",
        "        ans = [[]]\n",
        "\n",
        "        for num in nums:\n",
        "            for i in range(len(ans)):\n",
        "                tmp = ans[i] + [num]\n",
        "                ans.append(tmp)\n",
        "\n",
        "        return ans"
      ],
      "metadata": {
        "id": "9eMO93ezpnaM"
      },
      "execution_count": null,
      "outputs": []
    },
    {
      "cell_type": "markdown",
      "source": [
        "https://leetcode.com/problems/combinations/"
      ],
      "metadata": {
        "id": "ejCiuaBFXcDR"
      }
    },
    {
      "cell_type": "code",
      "source": [
        "class Solution:\n",
        "    def combine(self, n: int, k: int) -> List[List[int]]:\n",
        "        def backtrack(start=1,path=[]):\n",
        "            if len(path)==k:\n",
        "                ans.append(path[:])\n",
        "                return\n",
        "\n",
        "            for i in range(start,n+1):\n",
        "                path.append(i)\n",
        "                backtrack(i+1,path)\n",
        "                path.pop()\n",
        "\n",
        "        ans = []\n",
        "        backtrack(1,[])\n",
        "        return ans"
      ],
      "metadata": {
        "id": "p46twZVaXeZA"
      },
      "execution_count": null,
      "outputs": []
    },
    {
      "cell_type": "markdown",
      "source": [
        "https://leetcode.com/problems/middle-of-the-linked-list/description/"
      ],
      "metadata": {
        "id": "Cd03Tv5SbZCh"
      }
    },
    {
      "cell_type": "code",
      "source": [
        "# Definition for singly-linked list.\n",
        "# class ListNode:\n",
        "#     def __init__(self, val=0, next=None):\n",
        "#         self.val = val\n",
        "#         self.next = next\n",
        "class Solution:\n",
        "    def middleNode(self, head: Optional[ListNode]) -> Optional[ListNode]:\n",
        "        slow = fast = head\n",
        "        while fast and fast.next:\n",
        "            slow = slow.next\n",
        "            fast = fast.next.next\n",
        "        return slow"
      ],
      "metadata": {
        "id": "y_oX3bs2bZiN"
      },
      "execution_count": null,
      "outputs": []
    },
    {
      "cell_type": "markdown",
      "source": [
        "https://leetcode.com/problems/linked-list-cycle/"
      ],
      "metadata": {
        "id": "j5kwRrNJSfcm"
      }
    },
    {
      "cell_type": "code",
      "source": [
        "# Definition for singly-linked list.\n",
        "# class ListNode:\n",
        "#     def __init__(self, x):\n",
        "#         self.val = x\n",
        "#         self.next = None\n",
        "\n",
        "class Solution:\n",
        "    def hasCycle(self, head: Optional[ListNode]) -> bool:\n",
        "        slow = fast = head\n",
        "        while fast and fast.next:\n",
        "            slow = slow.next\n",
        "            fast = fast.next.next\n",
        "\n",
        "            if slow == fast:\n",
        "                return True\n",
        "        return False"
      ],
      "metadata": {
        "id": "gsDJ1KtUSrOb"
      },
      "execution_count": null,
      "outputs": []
    },
    {
      "cell_type": "markdown",
      "source": [
        "https://leetcode.com/problems/reverse-linked-list/"
      ],
      "metadata": {
        "id": "j7vJPdfctexK"
      }
    },
    {
      "cell_type": "code",
      "source": [
        "# Definition for singly-linked list.\n",
        "# class ListNode:\n",
        "#     def __init__(self, val=0, next=None):\n",
        "#         self.val = val\n",
        "#         self.next = next\n",
        "class Solution:\n",
        "    def reverseList(self, head: Optional[ListNode]) -> Optional[ListNode]:\n",
        "        prev = None\n",
        "        curr = head\n",
        "        while curr:\n",
        "            nex = curr.next\n",
        "            curr.next = prev\n",
        "            prev = curr\n",
        "            curr = nex\n",
        "        return prev\n"
      ],
      "metadata": {
        "id": "AMRhrxKPta-N"
      },
      "execution_count": null,
      "outputs": []
    },
    {
      "cell_type": "code",
      "source": [
        "# Definition for singly-linked list.\n",
        "# class ListNode:\n",
        "#     def __init__(self, val=0, next=None):\n",
        "#         self.val = val\n",
        "#         self.next = next\n",
        "class Solution:\n",
        "    # prefer this one\n",
        "    def reverseListIter(self, head: Optional[ListNode]) -> Optional[ListNode]:\n",
        "        if head is None:\n",
        "            return None\n",
        "\n",
        "        prev = head\n",
        "        while head.next:\n",
        "            temp = head.next\n",
        "            head.next = temp.next\n",
        "            temp.next = prev\n",
        "            prev = temp\n",
        "\n",
        "        return prev\n",
        "\n",
        "\n",
        "    # hard to remember\n",
        "    def reverseList(self, head: Optional[ListNode]) -> Optional[ListNode]:\n",
        "        if not head or not head.next:\n",
        "            return head\n",
        "\n",
        "        p = self.reverseList(head.next)\n",
        "        head.next.next = head\n",
        "        head.next = None\n",
        "\n",
        "        return p"
      ],
      "metadata": {
        "id": "g9Hi8n5ktmVG"
      },
      "execution_count": null,
      "outputs": []
    },
    {
      "cell_type": "markdown",
      "source": [
        "https://leetcode.com/problems/remove-linked-list-elements/description/"
      ],
      "metadata": {
        "id": "pfzMcH5cmbmv"
      }
    },
    {
      "cell_type": "code",
      "source": [
        "# Definition for singly-linked list.\n",
        "# class ListNode:\n",
        "#     def __init__(self, val=0, next=None):\n",
        "#         self.val = val\n",
        "#         self.next = next\n",
        "class Solution:\n",
        "    def removeElements(self, head: Optional[ListNode], val: int) -> Optional[ListNode]:\n",
        "        node = head\n",
        "        prev = None\n",
        "        while node:\n",
        "            if node.val == val:\n",
        "                if prev == None:\n",
        "                    head = node.next\n",
        "                    node = node.next\n",
        "                    continue\n",
        "                else:\n",
        "                    if node.next:\n",
        "                        prev.next = node.next\n",
        "                        node = node.next\n",
        "                        continue\n",
        "                    else:\n",
        "                        prev.next = None\n",
        "                        break\n",
        "            prev = node\n",
        "            node = node.next\n",
        "        return head"
      ],
      "metadata": {
        "id": "iZ1wljHAmpcQ"
      },
      "execution_count": null,
      "outputs": []
    },
    {
      "cell_type": "code",
      "source": [
        "# Definition for singly-linked list.\n",
        "# class ListNode:\n",
        "#     def __init__(self, val=0, next=None):\n",
        "#         self.val = val\n",
        "#         self.next = next\n",
        "class Solution:\n",
        "    def removeElements(self, head: Optional[ListNode], val: int) -> Optional[ListNode]:\n",
        "\n",
        "        dummy = ListNode(-1)\n",
        "        dummy.next = head\n",
        "        node = dummy\n",
        "        while node.next:\n",
        "            if node.next.val == val:\n",
        "                node.next = node.next.next\n",
        "            else:\n",
        "                node = node.next\n",
        "        return dummy.next"
      ],
      "metadata": {
        "id": "lVpjVkTqn2aa"
      },
      "execution_count": null,
      "outputs": []
    },
    {
      "cell_type": "markdown",
      "source": [
        "https://leetcode.com/problems/reverse-linked-list-ii/"
      ],
      "metadata": {
        "id": "vapVOsIRvKib"
      }
    },
    {
      "cell_type": "code",
      "source": [
        "# Definition for singly-linked list.\n",
        "# class ListNode:\n",
        "#     def __init__(self, val=0, next=None):\n",
        "#         self.val = val\n",
        "#         self.next = next\n",
        "class Solution:\n",
        "    def reverseBetween(self, head: Optional[ListNode], left: int, right: int) -> Optional[ListNode]:\n",
        "        dummy = ListNode(-1,head)\n",
        "        node = head\n",
        "        leftPrev = dummy\n",
        "\n",
        "        for i in range(left-1):\n",
        "            leftPrev,node = node,node.next\n",
        "\n",
        "        prev = None\n",
        "        for i in range(right-left+1):\n",
        "            next = node.next\n",
        "            node.next = prev\n",
        "            prev,node = node,next\n",
        "\n",
        "        leftPrev.next.next = node\n",
        "        leftPrev.next = prev\n",
        "\n",
        "        return dummy.next"
      ],
      "metadata": {
        "id": "HIH0P_dhvL6Q"
      },
      "execution_count": null,
      "outputs": []
    },
    {
      "cell_type": "markdown",
      "source": [
        "https://leetcode.com/problems/palindrome-linked-list/description/"
      ],
      "metadata": {
        "id": "6RR0KjpwNmrF"
      }
    },
    {
      "cell_type": "code",
      "source": [
        "# Definition for singly-linked list.\n",
        "# class ListNode:\n",
        "#     def __init__(self, val=0, next=None):\n",
        "#         self.val = val\n",
        "#         self.next = next\n",
        "class Solution:\n",
        "    def isPalindrome(self, head: Optional[ListNode]) -> bool:\n",
        "        slow = head\n",
        "        fast = head\n",
        "\n",
        "        while fast and fast.next:\n",
        "            slow = slow.next\n",
        "            fast = fast.next.next\n",
        "\n",
        "        mid = slow\n",
        "        prev = None\n",
        "\n",
        "        while mid:\n",
        "            next = mid.next\n",
        "            mid.next = prev\n",
        "            prev,mid = mid,next\n",
        "\n",
        "        node = head\n",
        "        while prev:\n",
        "            if node.val != prev.val:\n",
        "                return False\n",
        "            else:\n",
        "                node = node.next\n",
        "                prev = prev.next\n",
        "        return True\n"
      ],
      "metadata": {
        "id": "s5NNMt1JNo_S"
      },
      "execution_count": null,
      "outputs": []
    },
    {
      "cell_type": "markdown",
      "source": [
        "https://leetcode.com/problems/merge-two-sorted-lists/description/"
      ],
      "metadata": {
        "id": "KtOwAJWxH3MT"
      }
    },
    {
      "cell_type": "code",
      "source": [
        "# Definition for singly-linked list.\n",
        "# class ListNode:\n",
        "#     def __init__(self, val=0, next=None):\n",
        "#         self.val = val\n",
        "#         self.next = next\n",
        "class Solution:\n",
        "    def mergeTwoLists(self, list1: Optional[ListNode], list2: Optional[ListNode]) -> Optional[ListNode]:\n",
        "        dummy = ListNode(-1)\n",
        "        curr = dummy\n",
        "        while list1 and list2:\n",
        "            if list1.val <= list2.val:\n",
        "                curr.next = list1\n",
        "                list1 = list1.next\n",
        "            else:\n",
        "                curr.next = list2\n",
        "                list2 = list2.next\n",
        "            curr = curr.next\n",
        "        if list1:\n",
        "            curr.next = list1\n",
        "        if list2:\n",
        "            curr.next = list2\n",
        "        return dummy.next"
      ],
      "metadata": {
        "id": "GCm826huH5f_"
      },
      "execution_count": null,
      "outputs": []
    },
    {
      "cell_type": "markdown",
      "source": [
        "https://leetcode.com/problems/min-stack/"
      ],
      "metadata": {
        "id": "hOL5dLBAQqUS"
      }
    },
    {
      "cell_type": "code",
      "source": [
        "class MinStack:\n",
        "\n",
        "    def __init__(self):\n",
        "        self.stack = list()\n",
        "        self.len = 0\n",
        "\n",
        "    def push(self, val: int) -> None:\n",
        "        if not self.stack:\n",
        "            minV = val\n",
        "        else:\n",
        "            minV = min(val,self.stack[-1][1])\n",
        "        self.len += 1\n",
        "        self.stack.append((val,minV))\n",
        "\n",
        "    def pop(self) -> None:\n",
        "        if self.stack:\n",
        "            self.len -=1\n",
        "            return self.stack.pop()\n",
        "        return\n",
        "\n",
        "\n",
        "    def top(self) -> int:\n",
        "        if self.stack:\n",
        "            return self.stack[-1][0]\n",
        "\n",
        "\n",
        "\n",
        "    def getMin(self) -> int:\n",
        "        return self.stack[-1][1]\n",
        "\n",
        "\n",
        "# Your MinStack object will be instantiated and called as such:\n",
        "# obj = MinStack()\n",
        "# obj.push(val)\n",
        "# obj.pop()\n",
        "# param_3 = obj.top()\n",
        "# param_4 = obj.getMin()"
      ],
      "metadata": {
        "id": "Yn_S24OJQsUb"
      },
      "execution_count": null,
      "outputs": []
    },
    {
      "cell_type": "markdown",
      "source": [
        "https://leetcode.com/problems/valid-parentheses/"
      ],
      "metadata": {
        "id": "Opa2U79rgkxZ"
      }
    },
    {
      "cell_type": "code",
      "source": [
        "class Solution:\n",
        "    def isValid(self, s: str) -> bool:\n",
        "        if not s:\n",
        "            return False\n",
        "        else:\n",
        "            dict = {'}':'{',']':'[',')':'('}\n",
        "            stack = []\n",
        "            for i in s:\n",
        "                print(i)\n",
        "                if stack and i in dict and stack[-1] == dict[i]:\n",
        "                    stack.pop()\n",
        "                else:\n",
        "                    stack.append(i)\n",
        "                print(stack)\n",
        "        return True if len(stack)==0 else False\n"
      ],
      "metadata": {
        "id": "UyH2UNNxglSm"
      },
      "execution_count": null,
      "outputs": []
    },
    {
      "cell_type": "markdown",
      "source": [
        "https://leetcode.com/problems/evaluate-reverse-polish-notation/description/"
      ],
      "metadata": {
        "id": "5DxiKGVI0Exj"
      }
    },
    {
      "cell_type": "code",
      "source": [
        "class Solution:\n",
        "    def evalRPN(self, tokens: List[str]) -> int:\n",
        "        stack = []\n",
        "        for t in tokens:\n",
        "            try:\n",
        "                stack.append(int(t))\n",
        "            except:\n",
        "                b = stack.pop()\n",
        "                a = stack.pop()\n",
        "                if t == \"+\":\n",
        "                    c = a+b\n",
        "                elif t == \"-\":\n",
        "                    c = a-b\n",
        "                elif t == \"*\":\n",
        "                    c = a*b\n",
        "                elif t == \"/\":\n",
        "                    c = int(a/b)\n",
        "                stack.append(c)\n",
        "        return stack.pop()"
      ],
      "metadata": {
        "id": "3FkyIxYv0Fbm"
      },
      "execution_count": null,
      "outputs": []
    },
    {
      "cell_type": "code",
      "source": [
        "class Solution:\n",
        "    def evalRPN(self, tokens: List[str]) -> int:\n",
        "        stack = []\n",
        "\n",
        "        for i in tokens:\n",
        "            if i in '+-*/':\n",
        "                a = stack.pop()\n",
        "                b = stack.pop()\n",
        "\n",
        "                if i == '+':\n",
        "                    stack.append(b+a)\n",
        "                elif i == '-':\n",
        "                    stack.append(b-a)\n",
        "                elif i == '*':\n",
        "                    stack.append(b*a)\n",
        "                elif i == '/':\n",
        "                    stack.append(int(b/a))\n",
        "\n",
        "            else:\n",
        "                stack.append(int(i))\n",
        "\n",
        "        return stack.pop()"
      ],
      "metadata": {
        "id": "0E-QaURC0n1i"
      },
      "execution_count": null,
      "outputs": []
    },
    {
      "cell_type": "markdown",
      "source": [
        "https://leetcode.com/problems/implement-stack-using-queues/description/"
      ],
      "metadata": {
        "id": "m6D1euIk5y33"
      }
    },
    {
      "cell_type": "code",
      "source": [
        "class MyStack:\n",
        "\n",
        "    def __init__(self):\n",
        "        self.stack = deque()\n",
        "\n",
        "    def push(self, x: int) -> None:\n",
        "        return self.stack.append(x)\n",
        "\n",
        "    def pop(self) -> int:\n",
        "        for _ in range(len(self.stack)-1):\n",
        "            self.stack.append(self.stack.popleft())\n",
        "        return self.stack.popleft()\n",
        "        #return self.stack.pop() as pop() is a stack and popleft() is queue\n",
        "\n",
        "    def top(self) -> int:\n",
        "        return self.stack[-1]\n",
        "\n",
        "    def empty(self) -> bool:\n",
        "        return True if len(self.stack)==0 else False\n",
        "\n",
        "\n",
        "# Your MyStack object will be instantiated and called as such:\n",
        "# obj = MyStack()\n",
        "# obj.push(x)\n",
        "# param_2 = obj.pop()\n",
        "# param_3 = obj.top()\n",
        "# param_4 = obj.empty()"
      ],
      "metadata": {
        "id": "YtctMZsP52Jh"
      },
      "execution_count": null,
      "outputs": []
    },
    {
      "cell_type": "markdown",
      "source": [
        "https://leetcode.com/problems/time-needed-to-buy-tickets/description/"
      ],
      "metadata": {
        "id": "xi6x4RdA9ta5"
      }
    },
    {
      "cell_type": "code",
      "source": [
        "class Solution:\n",
        "    def timeRequiredToBuy(self, tickets: List[int], k: int) -> int:\n",
        "        time = 0\n",
        "        q = deque(tickets)\n",
        "        while q:\n",
        "            time+=1\n",
        "            if q[0] == 1:\n",
        "                if k==0:\n",
        "                    break\n",
        "                else:\n",
        "                    q.popleft()\n",
        "            else:\n",
        "                q.append(q.popleft()-1)\n",
        "            if k==0:\n",
        "                k = len(q)-1\n",
        "            else:\n",
        "                k -= 1\n",
        "\n",
        "        return time"
      ],
      "metadata": {
        "id": "WbfIKOAQ9s4U"
      },
      "execution_count": null,
      "outputs": []
    },
    {
      "cell_type": "code",
      "source": [
        "class Solution:\n",
        "    def timeRequiredToBuy(self, tickets: List[int], k: int) -> int:\n",
        "        ans = 0\n",
        "        for i in range(len(tickets)):\n",
        "            if i<=k:\n",
        "                ans+=min(tickets[i],tickets[k])\n",
        "            else:\n",
        "                ans+=min(tickets[i],tickets[k]-1)\n",
        "        return ans"
      ],
      "metadata": {
        "id": "3P9BKY2If24P"
      },
      "execution_count": null,
      "outputs": []
    },
    {
      "cell_type": "markdown",
      "source": [
        "https://leetcode.com/problems/average-of-levels-in-binary-tree/"
      ],
      "metadata": {
        "id": "j00djfF21VWN"
      }
    },
    {
      "cell_type": "code",
      "source": [
        "# Definition for a binary tree node.\n",
        "# class TreeNode:\n",
        "#     def __init__(self, val=0, left=None, right=None):\n",
        "#         self.val = val\n",
        "#         self.left = left\n",
        "#         self.right = right\n",
        "class Solution:\n",
        "    def averageOfLevels(self, root: Optional[TreeNode]) -> List[float]:\n",
        "        q = deque([root])\n",
        "        ans = []\n",
        "\n",
        "        while q:\n",
        "            level = []\n",
        "            for i in range(len(q)):\n",
        "                node = q.popleft()\n",
        "                level.append(node.val)\n",
        "                if node.left:\n",
        "                    q.append(node.left)\n",
        "                if node.right:\n",
        "                    q.append(node.right)\n",
        "            ans.append(sum(level)/len(level))\n",
        "        return ans"
      ],
      "metadata": {
        "id": "mBgqDKP31VwQ"
      },
      "execution_count": null,
      "outputs": []
    },
    {
      "cell_type": "markdown",
      "source": [
        "https://leetcode.com/problems/minimum-depth-of-binary-tree/description/"
      ],
      "metadata": {
        "id": "IlGQ0KH64lzY"
      }
    },
    {
      "cell_type": "code",
      "source": [
        "# Definition for a binary tree node.\n",
        "# class TreeNode:\n",
        "#     def __init__(self, val=0, left=None, right=None):\n",
        "#         self.val = val\n",
        "#         self.left = left\n",
        "#         self.right = right\n",
        "class Solution:\n",
        "    def minDepth(self, root: Optional[TreeNode]) -> int:\n",
        "        if root == None:\n",
        "            return 0\n",
        "        q = deque([root])\n",
        "        ans = 0\n",
        "\n",
        "        while q:\n",
        "            level = []\n",
        "            ans+=1\n",
        "            for i in range(len(q)):\n",
        "                node = q.popleft()\n",
        "                level.append(node.val)\n",
        "                if node.left:\n",
        "                    q.append(node.left)\n",
        "                if node.right:\n",
        "                    q.append(node.right)\n",
        "                if node.left==None and node.right==None:\n",
        "                    return ans\n",
        "            print(level)\n",
        "        return ans"
      ],
      "metadata": {
        "id": "5DriiB6_4mah"
      },
      "execution_count": null,
      "outputs": []
    },
    {
      "cell_type": "code",
      "source": [
        "class Solution:\n",
        "    def minDepth(self, root: Optional[TreeNode]) -> int:\n",
        "        def recurse(root):\n",
        "            if root.left is None and root.right is None:\n",
        "                return 1\n",
        "            if root.left is None and root.right:\n",
        "                return 1+recurse(root.right)\n",
        "            if root.left and root.right is  None:\n",
        "                return 1+recurse(root.left)\n",
        "            if root.left and root.right:\n",
        "                return min(1+recurse(root.right),1+recurse(root.left))\n",
        "        return recurse(root) if root else 0"
      ],
      "metadata": {
        "id": "Vhvp4z-NHPEM"
      },
      "execution_count": null,
      "outputs": []
    },
    {
      "cell_type": "markdown",
      "source": [
        "https://leetcode.com/problems/maximum-depth-of-binary-tree/"
      ],
      "metadata": {
        "id": "tpvz9GKrGs-z"
      }
    },
    {
      "cell_type": "code",
      "source": [
        "# Definition for a binary tree node.\n",
        "# class TreeNode:\n",
        "#     def __init__(self, val=0, left=None, right=None):\n",
        "#         self.val = val\n",
        "#         self.left = left\n",
        "#         self.right = right\n",
        "class Solution:\n",
        "    def maxDepth(self, root: Optional[TreeNode]) -> int:\n",
        "        q = deque([root])\n",
        "        ans = 0\n",
        "\n",
        "        if not root:\n",
        "            return ans\n",
        "\n",
        "        while q:\n",
        "            level = []\n",
        "            ans+=1\n",
        "            for i in range(len(q)):\n",
        "                node = q.popleft()\n",
        "                if node.left: q.append(node.left)\n",
        "                if node.right: q.append(node.right)\n",
        "        return ans"
      ],
      "metadata": {
        "id": "DIfQE2p7Guco"
      },
      "execution_count": null,
      "outputs": []
    },
    {
      "cell_type": "code",
      "source": [
        "# Definition for a binary tree node.\n",
        "# class TreeNode:\n",
        "#     def __init__(self, val=0, left=None, right=None):\n",
        "#         self.val = val\n",
        "#         self.left = left\n",
        "#         self.right = right\n",
        "class Solution:\n",
        "    def maxDepth(self, root: Optional[TreeNode]) -> int:\n",
        "        if not root:\n",
        "            return 0\n",
        "        return max(self.maxDepth(root.left),self.maxDepth(root.right))+1"
      ],
      "metadata": {
        "id": "g5zwLGLPH1Do"
      },
      "execution_count": null,
      "outputs": []
    },
    {
      "cell_type": "markdown",
      "source": [
        "https://leetcode.com/problems/same-tree/"
      ],
      "metadata": {
        "id": "DEyFrSEekaNF"
      }
    },
    {
      "cell_type": "code",
      "source": [
        "# Definition for a binary tree node.\n",
        "# class TreeNode:\n",
        "#     def __init__(self, val=0, left=None, right=None):\n",
        "#         self.val = val\n",
        "#         self.left = left\n",
        "#         self.right = right\n",
        "class Solution:\n",
        "    def isSameTree(self, p: Optional[TreeNode], q: Optional[TreeNode]) -> bool:\n",
        "        stack = [(p,q)]\n",
        "\n",
        "        while stack:\n",
        "            node1 , node2 = stack.pop()\n",
        "            if not node1 and not node2:\n",
        "                continue\n",
        "            if None in [node1,node2] or node1.val != node2.val:\n",
        "                return False\n",
        "\n",
        "            stack.append((node1.left,node2.left))\n",
        "            stack.append((node1.right,node2.right))\n",
        "\n",
        "        return True"
      ],
      "metadata": {
        "id": "j3Y5LbMAkbgL"
      },
      "execution_count": null,
      "outputs": []
    },
    {
      "cell_type": "markdown",
      "source": [
        "https://leetcode.com/problems/path-sum/"
      ],
      "metadata": {
        "id": "pCzMmLgZ4Ppj"
      }
    },
    {
      "cell_type": "code",
      "source": [
        "# Definition for a binary tree node.\n",
        "# class TreeNode:\n",
        "#     def __init__(self, val=0, left=None, right=None):\n",
        "#         self.val = val\n",
        "#         self.left = left\n",
        "#         self.right = right\n",
        "class Solution:\n",
        "    def hasPathSum(self, root: Optional[TreeNode], targetSum: int) -> bool:\n",
        "        if not root:\n",
        "            return False\n",
        "\n",
        "        stack = [(root,root.val)]\n",
        "        while stack:\n",
        "            node,val = stack.pop()\n",
        "            if not node.left and not node.right and val == targetSum:\n",
        "                return True\n",
        "            if node.right:\n",
        "                stack.append((node.right,node.right.val+val))\n",
        "            if node.left:\n",
        "                stack.append((node.left,node.left.val+val))\n",
        "\n",
        "        return False"
      ],
      "metadata": {
        "id": "-MFE8tGn4QGu"
      },
      "execution_count": null,
      "outputs": []
    },
    {
      "cell_type": "code",
      "source": [
        "# Definition for a binary tree node.\n",
        "# class TreeNode:\n",
        "#     def __init__(self, val=0, left=None, right=None):\n",
        "#         self.val = val\n",
        "#         self.left = left\n",
        "#         self.right = right\n",
        "class Solution:\n",
        "    def hasPathSum(self, root: Optional[TreeNode], targetSum: int) -> bool:\n",
        "        if not root:\n",
        "            return False\n",
        "\n",
        "        targetSum -= root.val\n",
        "\n",
        "        if not root.left and not root.right and targetSum == 0:\n",
        "            return True\n",
        "\n",
        "        return self.hasPathSum(root.left,targetSum) or self.hasPathSum(root.right,targetSum)"
      ],
      "metadata": {
        "id": "cRXapP4z5sBx"
      },
      "execution_count": null,
      "outputs": []
    }
  ]
}