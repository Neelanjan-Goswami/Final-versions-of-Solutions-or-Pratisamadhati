{
  "nbformat": 4,
  "nbformat_minor": 0,
  "metadata": {
    "colab": {
      "provenance": [],
      "authorship_tag": "ABX9TyOAXHODvwrNIDzABAAFXO0V",
      "include_colab_link": true
    },
    "kernelspec": {
      "name": "python3",
      "display_name": "Python 3"
    },
    "language_info": {
      "name": "python"
    }
  },
  "cells": [
    {
      "cell_type": "markdown",
      "metadata": {
        "id": "view-in-github",
        "colab_type": "text"
      },
      "source": [
        "<a href=\"https://colab.research.google.com/github/Neelanjan-Goswami/Final-versions-of-Solutions-or-Pratisamadhati/blob/master/YT_LeetCode.ipynb\" target=\"_parent\"><img src=\"https://colab.research.google.com/assets/colab-badge.svg\" alt=\"Open In Colab\"/></a>"
      ]
    },
    {
      "cell_type": "markdown",
      "source": [
        "https://www.youtube.com/watch?v=lvO88XxNAzs&ab_channel=stoneycodes"
      ],
      "metadata": {
        "id": "1Ng5ySGHP2J3"
      }
    },
    {
      "cell_type": "markdown",
      "source": [
        "https://leetcode.com/problems/contains-duplicate/description/"
      ],
      "metadata": {
        "id": "H8hpaGB7MMsx"
      }
    },
    {
      "cell_type": "code",
      "source": [
        "class Solution:\n",
        "    def containsDuplicate(self, nums: List[int]) -> bool:\n",
        "      s = set()\n",
        "        for num in nums:\n",
        "            if num in s:\n",
        "                return True\n",
        "            else:\n",
        "                s.add(num)\n",
        "        return False\n",
        "        #OR\n",
        "        d = defaultdict(int)\n",
        "        for num in nums:\n",
        "            if num not in d:\n",
        "                d[num]=1\n",
        "            else:\n",
        "                return True\n",
        "        return False"
      ],
      "metadata": {
        "id": "F6K5BazCMK-b"
      },
      "execution_count": null,
      "outputs": []
    },
    {
      "cell_type": "markdown",
      "source": [
        "https://leetcode.com/problems/missing-number/"
      ],
      "metadata": {
        "id": "YZhCLeQ3BskQ"
      }
    },
    {
      "cell_type": "code",
      "source": [
        "class Solution:\n",
        "    def missingNumber(self, nums: List[int]) -> int:\n",
        "        return sum(range(len(nums)+1)) - sum(nums)\n",
        "        #OR\n",
        "        n = len(nums)\n",
        "        for i in range (0,n+1):\n",
        "            if i not in nums:\n",
        "                return i"
      ],
      "metadata": {
        "id": "2GrBc-gzBtHK"
      },
      "execution_count": null,
      "outputs": []
    },
    {
      "cell_type": "markdown",
      "source": [
        "https://leetcode.com/problems/find-all-numbers-disappeared-in-an-array/"
      ],
      "metadata": {
        "id": "11lzeymYNunQ"
      }
    },
    {
      "cell_type": "code",
      "source": [
        "class Solution:\n",
        "    def findDisappearedNumbers(self, nums: List[int]) -> List[int]:\n",
        "        ans = []\n",
        "        n=len(nums)\n",
        "        nums = set(nums)\n",
        "        for i in range (1,n+1):\n",
        "            if i not in nums:\n",
        "                ans.append(i)\n",
        "        return ans"
      ],
      "metadata": {
        "id": "zsZcSttQNvV-"
      },
      "execution_count": null,
      "outputs": []
    },
    {
      "cell_type": "markdown",
      "source": [
        "https://leetcode.com/problems/two-sum/"
      ],
      "metadata": {
        "id": "lXtrgg0ait5P"
      }
    },
    {
      "cell_type": "code",
      "source": [
        "class Solution:\n",
        "    def twoSum(self, nums: List[int], target: int) -> List[int]:\n",
        "        d = {}\n",
        "        for i in range (len(nums)):\n",
        "            t = target - nums[i]\n",
        "            if t in d:\n",
        "                return [i,d[t]]\n",
        "            else:\n",
        "                d[nums[i]] = i"
      ],
      "metadata": {
        "id": "6x7pZCEeiwD5"
      },
      "execution_count": null,
      "outputs": []
    },
    {
      "cell_type": "markdown",
      "source": [
        "https://leetcode.com/problems/how-many-numbers-are-smaller-than-the-current-number/submissions/1641810006/"
      ],
      "metadata": {
        "id": "gojK1wGadYCV"
      }
    },
    {
      "cell_type": "code",
      "source": [
        "class Solution:\n",
        "    def smallerNumbersThanCurrent(self, nums: List[int]) -> List[int]:\n",
        "        n = enumerate(sorted(nums))\n",
        "        d = {}\n",
        "        for k,v in n:\n",
        "            if v not in d:\n",
        "                d[v]=k\n",
        "        ans = []\n",
        "        for i in nums:\n",
        "            ans.append(d[i])\n",
        "        return ans"
      ],
      "metadata": {
        "id": "rbogciSCdYoX"
      },
      "execution_count": null,
      "outputs": []
    },
    {
      "cell_type": "markdown",
      "source": [
        "https://leetcode.com/problems/minimum-time-visiting-all-points/"
      ],
      "metadata": {
        "id": "JuFopndolj1w"
      }
    },
    {
      "cell_type": "code",
      "source": [
        "class Solution:\n",
        "    def minTimeToVisitAllPoints(self, points: List[List[int]]) -> int:\n",
        "        x1 , y1 = points.pop()\n",
        "        ans = 0\n",
        "        while points:\n",
        "            x2 , y2 = points.pop()\n",
        "            ans += max(abs(x2-x1),abs(y2-y1))\n",
        "            x1 , y1 = x2 , y2\n",
        "        return ans"
      ],
      "metadata": {
        "id": "43QcwHZRln1R"
      },
      "execution_count": null,
      "outputs": []
    },
    {
      "cell_type": "markdown",
      "source": [
        "https://leetcode.com/problems/spiral-matrix/"
      ],
      "metadata": {
        "id": "LFY2MFDIJD-5"
      }
    },
    {
      "cell_type": "code",
      "source": [
        "class Solution:\n",
        "    def spiralOrder(self, matrix: List[List[int]]) -> List[int]:\n",
        "        row , col = len(matrix),len(matrix[0])\n",
        "        ans = []\n",
        "        while matrix:\n",
        "            try:\n",
        "                ans+=self.right(matrix)\n",
        "                ans+=self.down(matrix)\n",
        "                ans+=self.left(matrix)\n",
        "                ans+=self.up(matrix)\n",
        "            except:\n",
        "                pass\n",
        "        return ans\n",
        "\n",
        "    def left(self,matrix):\n",
        "        if len(matrix) == 0:\n",
        "            return\n",
        "        else:\n",
        "            return matrix.pop(-1)[::-1]\n",
        "\n",
        "    def down(self,matrix):\n",
        "        if len(matrix) == 0:\n",
        "            return\n",
        "        else:\n",
        "            last = []\n",
        "            for i in range (len(matrix)):\n",
        "                last.append(matrix[i].pop(-1))\n",
        "            return last\n",
        "\n",
        "    def right(self,matrix):\n",
        "        if len(matrix) == 0:\n",
        "            return\n",
        "        else:\n",
        "            return matrix.pop(0)\n",
        "\n",
        "    def up(self,matrix):\n",
        "        if len(matrix) == 0:\n",
        "            return\n",
        "        else:\n",
        "            first = []\n",
        "            for i in range (len(matrix)-1,-1,-1):\n",
        "                first.append(matrix[i].pop(0))\n",
        "            return first"
      ],
      "metadata": {
        "id": "U8MZGoAFJGBo"
      },
      "execution_count": null,
      "outputs": []
    },
    {
      "cell_type": "markdown",
      "source": [
        "https://leetcode.com/problems/number-of-islands/"
      ],
      "metadata": {
        "id": "a9ADLeraxCMX"
      }
    },
    {
      "cell_type": "code",
      "source": [
        "#BFS\n",
        "class Solution:\n",
        "    def numIslands(self, grid: List[List[str]]) -> int:\n",
        "        if not grid:\n",
        "            return 0\n",
        "\n",
        "        def bfs(r,c):\n",
        "            q = deque()\n",
        "            visited.add((r,c))\n",
        "            q.append((r,c))\n",
        "            while q:\n",
        "                row,col = q.popleft()\n",
        "                directions = [[0,1],[1,0],[0,-1],[-1,0]]\n",
        "                for dx,dy in directions:\n",
        "                    r,c = row+dx,col+dy\n",
        "                    if (r in range(rows) and c in range(cols) and grid[r][c]==\"1\" and (r,c) not in visited):\n",
        "                        q.append((r,c))\n",
        "                        visited.add((r,c))\n",
        "\n",
        "        num = 0\n",
        "        rows = len(grid)\n",
        "        cols = len(grid[0])\n",
        "        visited = set()\n",
        "\n",
        "        for r in range(rows):\n",
        "            for c in range(cols):\n",
        "                if grid[r][c] == \"1\" and (r,c) not in visited:\n",
        "                    bfs(r,c)\n",
        "                    num+=1\n",
        "        return num"
      ],
      "metadata": {
        "id": "ly8_kPulxCrm"
      },
      "execution_count": null,
      "outputs": []
    },
    {
      "cell_type": "code",
      "source": [
        "#DFS\n",
        "\n",
        "class Solution:\n",
        "    def numIslands(self, grid: List[List[str]]) -> int:\n",
        "        if not grid:\n",
        "            return 0\n",
        "\n",
        "        def dfs(r,c):\n",
        "            if r < 0 or r >= rows or c < 0 or c >= cols or grid[r][c]!='1':\n",
        "                return\n",
        "            grid[r][c] = '0'\n",
        "            dfs(r+1,c)\n",
        "            dfs(r-1,c)\n",
        "            dfs(r,c+1)\n",
        "            dfs(r,c-1)\n",
        "\n",
        "        num = 0\n",
        "        rows = len(grid)\n",
        "        cols = len(grid[0])\n",
        "\n",
        "        for r in range(rows):\n",
        "            for c in range(cols):\n",
        "                if grid[r][c] == \"1\":\n",
        "                    num+=1\n",
        "                    dfs(r,c)\n",
        "\n",
        "        return num"
      ],
      "metadata": {
        "id": "IB6k7p5wY3es"
      },
      "execution_count": null,
      "outputs": []
    },
    {
      "cell_type": "markdown",
      "source": [
        "https://leetcode.com/problems/best-time-to-buy-and-sell-stock/"
      ],
      "metadata": {
        "id": "bkVa4BIs_hWC"
      }
    },
    {
      "cell_type": "code",
      "source": [
        "class Solution:\n",
        "    def maxProfit(self, prices: List[int]) -> int:\n",
        "        if not prices or len(prices)==1:\n",
        "            return 0\n",
        "        l = 0\n",
        "        r = 1\n",
        "        ans = 0\n",
        "        while r != len(prices):\n",
        "            if prices[l]<prices[r]:\n",
        "                if prices[r]-prices[l]>ans:\n",
        "                    ans = prices[r]-prices[l]\n",
        "            else:\n",
        "                l=r\n",
        "            r+=1\n",
        "        return ans"
      ],
      "metadata": {
        "id": "MOXzFX-w_jI3"
      },
      "execution_count": null,
      "outputs": []
    },
    {
      "cell_type": "markdown",
      "source": [
        "https://leetcode.com/problems/squares-of-a-sorted-array/"
      ],
      "metadata": {
        "id": "XNpEMyeAI2T7"
      }
    },
    {
      "cell_type": "code",
      "source": [
        "class Solution:\n",
        "    def sortedSquares(self, nums: List[int]) -> List[int]:\n",
        "        ans = collections.deque()\n",
        "        l = 0\n",
        "        r = len(nums)-1\n",
        "        while l<=r:\n",
        "            l_val,r_val = abs(nums[l]),abs(nums[r])\n",
        "            if l_val<r_val:\n",
        "                ans.appendleft(r_val)\n",
        "                r-=1\n",
        "            else:\n",
        "                ans.appendleft(l_val)\n",
        "                l+=1\n",
        "        return [n**2 for n in ans]"
      ],
      "metadata": {
        "id": "AnZyu-GuRJTD"
      },
      "execution_count": null,
      "outputs": []
    },
    {
      "cell_type": "code",
      "source": [
        "#In-efficient way but different and mine\n",
        "class Solution:\n",
        "    def sortedSquares(self, nums: List[int]) -> List[int]:\n",
        "        ptr = 0\n",
        "        for i in range(len(nums)):\n",
        "            ptr = i\n",
        "            if nums[i] >= 0:\n",
        "                break\n",
        "        print(ptr)\n",
        "        neg = nums[0:ptr]\n",
        "        neg = neg[::-1]\n",
        "        for i in range(len(neg)):\n",
        "            neg[i] = neg[i]**2\n",
        "        pos = nums[ptr:len(nums)]\n",
        "        for i in range(len(pos)):\n",
        "            pos[i] = pos[i]**2\n",
        "        print(neg)\n",
        "        print(pos)\n",
        "        if len(neg)==0: return pos\n",
        "        ans = []\n",
        "        var=0\n",
        "        while len(neg)!=0 and len(pos)!=0:\n",
        "            if neg[0]<pos[0]:\n",
        "                ans.append(neg.pop(0))\n",
        "            else:\n",
        "                ans.append(pos.pop(0))\n",
        "        else:\n",
        "            if len(neg)==0:\n",
        "                ans+=pos\n",
        "            elif len(pos)==0:\n",
        "                ans+=neg\n",
        "        return ans\n"
      ],
      "metadata": {
        "id": "Js3XQ8m3I28H"
      },
      "execution_count": null,
      "outputs": []
    },
    {
      "cell_type": "markdown",
      "source": [
        "https://leetcode.com/problems/3sum/description/"
      ],
      "metadata": {
        "id": "PntCJR5SWpme"
      }
    },
    {
      "cell_type": "code",
      "source": [
        "class Solution:\n",
        "    def threeSum(self, nums: List[int]) -> List[List[int]]:\n",
        "        ans = []\n",
        "        nums.sort()\n",
        "\n",
        "        for ind,val in enumerate(nums):\n",
        "            if val>0:\n",
        "                break\n",
        "            if ind > 0 and val == nums[ind-1]:\n",
        "                continue\n",
        "            l = (ind+1)\n",
        "            r = (len(nums)-1)\n",
        "            while l<r:\n",
        "                currentTarget = nums[l] + nums[r] + val\n",
        "                if currentTarget > 0:\n",
        "                    r-=1\n",
        "                elif currentTarget < 0:\n",
        "                    l+=1\n",
        "                else:\n",
        "                    ans.append([val,nums[l],nums[r]])\n",
        "                    l+=1\n",
        "                    while l<r and nums[l] == nums[l-1]:\n",
        "                        l+=1\n",
        "\n",
        "        return ans"
      ],
      "metadata": {
        "id": "FgPQA48sWuGW"
      },
      "execution_count": null,
      "outputs": []
    }
  ]
}