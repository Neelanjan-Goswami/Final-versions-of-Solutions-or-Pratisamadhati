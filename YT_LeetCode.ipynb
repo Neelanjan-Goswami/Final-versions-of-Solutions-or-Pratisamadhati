{
  "nbformat": 4,
  "nbformat_minor": 0,
  "metadata": {
    "colab": {
      "provenance": [],
      "authorship_tag": "ABX9TyML3vOrLQ+Q64of3rLpxRrv",
      "include_colab_link": true
    },
    "kernelspec": {
      "name": "python3",
      "display_name": "Python 3"
    },
    "language_info": {
      "name": "python"
    }
  },
  "cells": [
    {
      "cell_type": "markdown",
      "metadata": {
        "id": "view-in-github",
        "colab_type": "text"
      },
      "source": [
        "<a href=\"https://colab.research.google.com/github/Neelanjan-Goswami/Final-versions-of-Solutions-or-Pratisamadhati/blob/master/YT_LeetCode.ipynb\" target=\"_parent\"><img src=\"https://colab.research.google.com/assets/colab-badge.svg\" alt=\"Open In Colab\"/></a>"
      ]
    },
    {
      "cell_type": "markdown",
      "source": [
        "https://www.youtube.com/watch?v=lvO88XxNAzs&ab_channel=stoneycodes"
      ],
      "metadata": {
        "id": "1Ng5ySGHP2J3"
      }
    },
    {
      "cell_type": "markdown",
      "source": [
        "https://leetcode.com/problems/contains-duplicate/description/"
      ],
      "metadata": {
        "id": "H8hpaGB7MMsx"
      }
    },
    {
      "cell_type": "code",
      "source": [
        "class Solution:\n",
        "    def containsDuplicate(self, nums: List[int]) -> bool:\n",
        "      s = set()\n",
        "        for num in nums:\n",
        "            if num in s:\n",
        "                return True\n",
        "            else:\n",
        "                s.add(num)\n",
        "        return False\n",
        "        #OR\n",
        "        d = defaultdict(int)\n",
        "        for num in nums:\n",
        "            if num not in d:\n",
        "                d[num]=1\n",
        "            else:\n",
        "                return True\n",
        "        return False"
      ],
      "metadata": {
        "id": "F6K5BazCMK-b"
      },
      "execution_count": null,
      "outputs": []
    },
    {
      "cell_type": "markdown",
      "source": [
        "https://leetcode.com/problems/missing-number/"
      ],
      "metadata": {
        "id": "YZhCLeQ3BskQ"
      }
    },
    {
      "cell_type": "code",
      "source": [
        "class Solution:\n",
        "    def missingNumber(self, nums: List[int]) -> int:\n",
        "        return sum(range(len(nums)+1)) - sum(nums)\n",
        "        #OR\n",
        "        n = len(nums)\n",
        "        for i in range (0,n+1):\n",
        "            if i not in nums:\n",
        "                return i"
      ],
      "metadata": {
        "id": "2GrBc-gzBtHK"
      },
      "execution_count": null,
      "outputs": []
    },
    {
      "cell_type": "markdown",
      "source": [
        "https://leetcode.com/problems/find-all-numbers-disappeared-in-an-array/"
      ],
      "metadata": {
        "id": "11lzeymYNunQ"
      }
    },
    {
      "cell_type": "code",
      "source": [
        "class Solution:\n",
        "    def findDisappearedNumbers(self, nums: List[int]) -> List[int]:\n",
        "        ans = []\n",
        "        n=len(nums)\n",
        "        nums = set(nums)\n",
        "        for i in range (1,n+1):\n",
        "            if i not in nums:\n",
        "                ans.append(i)\n",
        "        return ans"
      ],
      "metadata": {
        "id": "zsZcSttQNvV-"
      },
      "execution_count": null,
      "outputs": []
    },
    {
      "cell_type": "markdown",
      "source": [
        "https://leetcode.com/problems/two-sum/"
      ],
      "metadata": {
        "id": "lXtrgg0ait5P"
      }
    },
    {
      "cell_type": "code",
      "source": [
        "class Solution:\n",
        "    def twoSum(self, nums: List[int], target: int) -> List[int]:\n",
        "        d = {}\n",
        "        for i in range (len(nums)):\n",
        "            t = target - nums[i]\n",
        "            if t in d:\n",
        "                return [i,d[t]]\n",
        "            else:\n",
        "                d[nums[i]] = i"
      ],
      "metadata": {
        "id": "6x7pZCEeiwD5"
      },
      "execution_count": null,
      "outputs": []
    },
    {
      "cell_type": "markdown",
      "source": [
        "https://leetcode.com/problems/how-many-numbers-are-smaller-than-the-current-number/submissions/1641810006/"
      ],
      "metadata": {
        "id": "gojK1wGadYCV"
      }
    },
    {
      "cell_type": "code",
      "source": [
        "class Solution:\n",
        "    def smallerNumbersThanCurrent(self, nums: List[int]) -> List[int]:\n",
        "        n = enumerate(sorted(nums))\n",
        "        d = {}\n",
        "        for k,v in n:\n",
        "            if v not in d:\n",
        "                d[v]=k\n",
        "        ans = []\n",
        "        for i in nums:\n",
        "            ans.append(d[i])\n",
        "        return ans"
      ],
      "metadata": {
        "id": "rbogciSCdYoX"
      },
      "execution_count": null,
      "outputs": []
    }
  ]
}