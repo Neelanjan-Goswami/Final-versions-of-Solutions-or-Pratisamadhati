{
  "nbformat": 4,
  "nbformat_minor": 0,
  "metadata": {
    "colab": {
      "provenance": [],
      "authorship_tag": "ABX9TyPVPJhG0xPq4nK81/Wx/TmG",
      "include_colab_link": true
    },
    "kernelspec": {
      "name": "python3",
      "display_name": "Python 3"
    },
    "language_info": {
      "name": "python"
    }
  },
  "cells": [
    {
      "cell_type": "markdown",
      "metadata": {
        "id": "view-in-github",
        "colab_type": "text"
      },
      "source": [
        "<a href=\"https://colab.research.google.com/github/Neelanjan-Goswami/Final-versions-of-Solutions-or-Pratisamadhati/blob/master/Warm_ups.ipynb\" target=\"_parent\"><img src=\"https://colab.research.google.com/assets/colab-badge.svg\" alt=\"Open In Colab\"/></a>"
      ]
    },
    {
      "cell_type": "markdown",
      "source": [
        "Number Guesser"
      ],
      "metadata": {
        "id": "HEVJdjhZgUZE"
      }
    },
    {
      "cell_type": "code",
      "source": [
        "import random\n",
        "import math"
      ],
      "metadata": {
        "id": "jXu1e7wXgVxF"
      },
      "execution_count": 36,
      "outputs": []
    },
    {
      "cell_type": "code",
      "source": [
        "print(\"Enter the start and end of the range of numbers\")\n",
        "start, end = int(input()), int(input())"
      ],
      "metadata": {
        "colab": {
          "base_uri": "https://localhost:8080/"
        },
        "id": "aKf-tJXCgiUo",
        "outputId": "b417659e-4ac1-4c93-eab7-19ce532b8bfb"
      },
      "execution_count": 37,
      "outputs": [
        {
          "name": "stdout",
          "output_type": "stream",
          "text": [
            "Enter the start and end of the range of numbers\n",
            "50\n",
            "100\n"
          ]
        }
      ]
    },
    {
      "cell_type": "code",
      "source": [
        "total_guesses = round(math.log((end-start+1),2))\n",
        "print(\"Total guesses: {}\".format(total_guesses))"
      ],
      "metadata": {
        "colab": {
          "base_uri": "https://localhost:8080/"
        },
        "id": "XmiGEbWchRpu",
        "outputId": "a98da7b9-630f-46e1-ea69-99438008d4c4"
      },
      "execution_count": 38,
      "outputs": [
        {
          "output_type": "stream",
          "name": "stdout",
          "text": [
            "Total guesses: 6\n"
          ]
        }
      ]
    },
    {
      "cell_type": "code",
      "source": [
        "ranNum = random.randint(start,end)"
      ],
      "metadata": {
        "id": "6dfK7wfvibe5"
      },
      "execution_count": 39,
      "outputs": []
    },
    {
      "cell_type": "code",
      "source": [
        "for i in range (0,total_guesses):\n",
        "  print(\"Guess the number:\")\n",
        "  guess = int(input())\n",
        "  if i==total_guesses-1:\n",
        "    print(\"You couldnt guess in {} tries\".format(total_guesses))\n",
        "    break\n",
        "  elif guess == ranNum:\n",
        "    print(\"You guessed the number! {}\".format(ranNum))\n",
        "    break\n",
        "  else:\n",
        "    if guess < ranNum:\n",
        "      print(\"You guessed too low!\")\n",
        "      start = int((end-start+1)/2)\n",
        "    else:\n",
        "      print(\"You guessed too high!\")\n",
        "      end = int((end-start+1)/2)\n"
      ],
      "metadata": {
        "colab": {
          "base_uri": "https://localhost:8080/"
        },
        "id": "Y34PmZgWiMKz",
        "outputId": "ea49bb97-10fb-4787-d131-41c534f97025"
      },
      "execution_count": 40,
      "outputs": [
        {
          "output_type": "stream",
          "name": "stdout",
          "text": [
            "Guess the number:\n",
            "75\n",
            "You guessed too low!\n",
            "Guess the number:\n",
            "87\n",
            "You guessed too high!\n",
            "Guess the number:\n",
            "80\n",
            "You guessed the number! 80\n"
          ]
        }
      ]
    },
    {
      "cell_type": "code",
      "source": [
        "print(\"The random number, start, end: {}, {}, {}\".format(ranNum,start,end))"
      ],
      "metadata": {
        "colab": {
          "base_uri": "https://localhost:8080/"
        },
        "id": "L65cw7tTk2RH",
        "outputId": "94ca0c51-1dc1-4dcd-a33d-19a18e482a5e"
      },
      "execution_count": 44,
      "outputs": [
        {
          "output_type": "stream",
          "name": "stdout",
          "text": [
            "The random number, start, end: 80, 25, 38\n"
          ]
        }
      ]
    }
  ]
}