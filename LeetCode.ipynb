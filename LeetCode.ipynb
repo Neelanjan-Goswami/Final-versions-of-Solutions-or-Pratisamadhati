{
  "nbformat": 4,
  "nbformat_minor": 0,
  "metadata": {
    "colab": {
      "provenance": [],
      "authorship_tag": "ABX9TyPhxVpysEulnul1SjKUiGpR",
      "include_colab_link": true
    },
    "kernelspec": {
      "name": "python3",
      "display_name": "Python 3"
    },
    "language_info": {
      "name": "python"
    }
  },
  "cells": [
    {
      "cell_type": "markdown",
      "metadata": {
        "id": "view-in-github",
        "colab_type": "text"
      },
      "source": [
        "<a href=\"https://colab.research.google.com/github/Neelanjan-Goswami/Final-versions-of-Solutions-or-Pratisamadhati/blob/master/LeetCode.ipynb\" target=\"_parent\"><img src=\"https://colab.research.google.com/assets/colab-badge.svg\" alt=\"Open In Colab\"/></a>"
      ]
    },
    {
      "cell_type": "markdown",
      "source": [
        "https://leetcode.com/problems/majority-element/"
      ],
      "metadata": {
        "id": "geplUFZXPAqm"
      }
    },
    {
      "cell_type": "code",
      "execution_count": null,
      "metadata": {
        "id": "2SOoKKsszqWl"
      },
      "outputs": [],
      "source": [
        "class Solution:\n",
        "    def majorityElement(self, nums: List[int]) -> int:\n",
        "\n",
        "        nums.sort()\n",
        "        return nums[len(nums)//2]\n",
        "\n",
        "        # OR\n",
        "\n",
        "        d = defaultdict(int)\n",
        "        for num in nums:\n",
        "            d[num] += 1\n",
        "            if d[num] > (len(nums)//2):\n",
        "                return num"
      ]
    },
    {
      "cell_type": "markdown",
      "source": [],
      "metadata": {
        "id": "Ns1jwAsZPDZn"
      }
    }
  ]
}