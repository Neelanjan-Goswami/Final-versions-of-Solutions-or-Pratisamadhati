{
  "nbformat": 4,
  "nbformat_minor": 0,
  "metadata": {
    "colab": {
      "provenance": [],
      "authorship_tag": "ABX9TyOp/10T5ypf6YJXbuHU2mm3",
      "include_colab_link": true
    },
    "kernelspec": {
      "name": "python3",
      "display_name": "Python 3"
    },
    "language_info": {
      "name": "python"
    }
  },
  "cells": [
    {
      "cell_type": "markdown",
      "metadata": {
        "id": "view-in-github",
        "colab_type": "text"
      },
      "source": [
        "<a href=\"https://colab.research.google.com/github/Neelanjan-Goswami/Final-versions-of-Solutions-or-Pratisamadhati/blob/master/LeetCode.ipynb\" target=\"_parent\"><img src=\"https://colab.research.google.com/assets/colab-badge.svg\" alt=\"Open In Colab\"/></a>"
      ]
    },
    {
      "cell_type": "markdown",
      "source": [
        "https://algomaster.io/practice/dsa-patterns"
      ],
      "metadata": {
        "id": "1Ng5ySGHP2J3"
      }
    },
    {
      "cell_type": "markdown",
      "source": [
        "https://leetcode.com/problems/majority-element/"
      ],
      "metadata": {
        "id": "geplUFZXPAqm"
      }
    },
    {
      "cell_type": "code",
      "execution_count": null,
      "metadata": {
        "id": "2SOoKKsszqWl"
      },
      "outputs": [],
      "source": [
        "class Solution:\n",
        "    def majorityElement(self, nums: List[int]) -> int:\n",
        "\n",
        "        nums.sort()\n",
        "        return nums[len(nums)//2]\n",
        "\n",
        "        # OR\n",
        "\n",
        "        d = defaultdict(int)\n",
        "        for num in nums:\n",
        "            d[num] += 1\n",
        "            if d[num] > (len(nums)//2):\n",
        "                return num"
      ]
    },
    {
      "cell_type": "markdown",
      "source": [
        "https://leetcode.com/problems/product-of-array-except-self/"
      ],
      "metadata": {
        "id": "Ns1jwAsZPDZn"
      }
    },
    {
      "cell_type": "code",
      "source": [
        "class Solution:\n",
        "    def productExceptSelf(self, nums: List[int]) -> List[int]:\n",
        "        prefix = 1\n",
        "        suffix = 1\n",
        "        ans = [1]*len(nums)\n",
        "        for i in range (0,len(nums)):\n",
        "            ans[i] *= prefix\n",
        "            prefix *= nums[i]\n",
        "        for i in range (len(nums)-1,-1,-1):\n",
        "            ans[i] *= suffix\n",
        "            suffix *= nums[i]\n",
        "        return ans\n"
      ],
      "metadata": {
        "id": "FKTRWZ1UPm2B"
      },
      "execution_count": null,
      "outputs": []
    }
  ]
}